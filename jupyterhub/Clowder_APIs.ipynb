{
 "cells": [
  {
   "cell_type": "markdown",
   "id": "6dfcb963-cf69-4505-9871-5cc13471f5dd",
   "metadata": {},
   "source": [
    "## Clowder APIs"
   ]
  },
  {
   "cell_type": "markdown",
   "id": "310051ad-4262-42fc-ac28-911f92842a7e",
   "metadata": {},
   "source": [
    "## Import libraries and setup utility function\n",
    "\n",
    "We start by importing the rquired libraries, data and setting up some utility functions and variables that we will use below."
   ]
  },
  {
   "cell_type": "code",
   "execution_count": 29,
   "id": "ffec7cb7-1a82-4148-aad1-bb3b1b19915b",
   "metadata": {},
   "outputs": [],
   "source": [
    "import pyclowder\n",
    "import json\n",
    "import os\n",
    "import pandas as pd\n",
    "\n",
    "import requests\n",
    "\n",
    "# Function to download the IRIS dataset\n",
    "def download_iris_dataset():\n",
    "    # URL for the Iris dataset hosted by UCI Machine Learning Repository\n",
    "    url = \"https://archive.ics.uci.edu/ml/machine-learning-databases/iris/iris.data\"\n",
    "    \n",
    "    response = requests.get(url)\n",
    "    \n",
    "    if response.status_code == 200:\n",
    "        with open(\"iris.csv\", \"wb\") as f:\n",
    "            f.write(response.content)\n",
    "        print(\"The Iris dataset has been downloaded and saved as iris.csv.\")\n",
    "    else:\n",
    "        print(\"Failed to download the dataset. Status code:\", response.status_code)\n",
    "\n",
    "\n",
    "CLOWDER_URL = \"http://localhost:8000\""
   ]
  },
  {
   "cell_type": "markdown",
   "id": "f8d5c0ae-659b-4a52-a30a-0fa8b7051694",
   "metadata": {},
   "source": [
    "## Token Generation"
   ]
  },
  {
   "cell_type": "code",
   "execution_count": 30,
   "id": "59fca5f8-a5d6-419d-835a-023a73c5a1d7",
   "metadata": {},
   "outputs": [
    {
     "name": "stdout",
     "output_type": "stream",
     "text": [
      "{'token': 'eyJhbGciOiJSUzI1NiIsInR5cCIgOiAiSldUIiwia2lkIiA6ICI2dUVlQ0xOc1hTQXZUN1VDek1FRVk2VmI4ajJnY1RhWlFESUpnbnFGSHVJIn0.eyJleHAiOjE3MTY1NzcwNTgsImlhdCI6MTcxNjU3Njc1OCwianRpIjoiZjBjYmZlYzYtZjJlMS00NDg0LTg0YWMtNzFjMGMwZWNmNTNlIiwiaXNzIjoiaHR0cDovL2xvY2FsaG9zdDo4MDgwL2tleWNsb2FrL3JlYWxtcy9jbG93ZGVyIiwic3ViIjoiZjg0Y2JjNmQtYzEzZC00MmVmLWFhN2MtMWQ4MmFjYzVhZWViIiwidHlwIjoiQmVhcmVyIiwiYXpwIjoiY2xvd2RlcjItYmFja2VuZCIsInNlc3Npb25fc3RhdGUiOiIzOTgyN2EyNy1kMDA5LTRiY2YtOGIzYS1jZTk1MGM3YTI4OWQiLCJhbGxvd2VkLW9yaWdpbnMiOlsiaHR0cDovL2xvY2FsaG9zdDo4MDAwIl0sInJlYWxtX2FjY2VzcyI6eyJyb2xlcyI6WyJkZWZhdWx0LXJvbGVzLWNsb3dkZXIiLCJvZmZsaW5lX2FjY2VzcyIsInVtYV9hdXRob3JpemF0aW9uIl19LCJzY29wZSI6Im9wZW5pZCBwcm9maWxlIGVtYWlsIiwic2lkIjoiMzk4MjdhMjctZDAwOS00YmNmLThiM2EtY2U5NTBjN2EyODlkIiwiZW1haWxfdmVyaWZpZWQiOnRydWUsIm5hbWUiOiJWaXNtYXlhayBNb2hhbmFyYWphbiIsInByZWZlcnJlZF91c2VybmFtZSI6Im1vaGFuYXIyQGlsbGlub2lzLmVkdSIsImdpdmVuX25hbWUiOiJWaXNtYXlhayIsImZhbWlseV9uYW1lIjoiTW9oYW5hcmFqYW4iLCJlbWFpbCI6Im1vaGFuYXIyQGlsbGlub2lzLmVkdSJ9.Z3upy5xkoXfTwILujF7C8vpE_XaL8F32vuRd67V2TVqUK4qEVuN_5yTsyCcXyte9osG2jeZTHlJXreekOrpTvOW4Qbel1JAHnCQfGmlri_io-XFE57aT379HZrLGVlrpiHOGTqKG5mDVxIbaHEqdWhJkAEWY55rDqpkCScHUP7_SoJgAUj9Xx_LSS1hDHLwBCYRvGPFEoMADM40F-P3qxkW5Qsv9gPqP5ChpfG_7KZeBMRhtFXH_xk3M18qjNsSiQ9QKBFC2IrLFnT89bCK_slaUfUWLyiONt6ASPkAw85aajD3jc8RKq_AM42a2-wFVF7vERGPnoMscOpvjp9lBiQ'}\n"
     ]
    }
   ],
   "source": [
    "user_login_json = {\n",
    "    \"email\": \"mohanar2@illinois.edu\",\n",
    "    \"password\": \"password\"\n",
    "}\n",
    "login_url = CLOWDER_URL + \"/api/v2/login\"\n",
    "response = requests.post(login_url, json = user_login_json)\n",
    "token = response.json()[\"token\"]\n",
    "print(response.json())"
   ]
  },
  {
   "cell_type": "markdown",
   "id": "2b273e10-8efc-46a8-b220-b63354735c49",
   "metadata": {},
   "source": [
    "## Creating Dataset"
   ]
  },
  {
   "cell_type": "code",
   "execution_count": 31,
   "id": "91639e11-b553-4b57-a0df-6e91c661662f",
   "metadata": {},
   "outputs": [
    {
     "name": "stdout",
     "output_type": "stream",
     "text": [
      "{'name': 'Flower Dataset', 'description': 'Dataset for Flower Data', 'status': 'PRIVATE', 'id': '6650e202fcd9057e97ae2d8a', 'creator': {'email': 'mohanar2@illinois.edu', 'first_name': 'Vismayak', 'last_name': 'Mohanarajan', 'id': '663a45d5b75ca83d17ac6564', 'admin': True, 'admin_mode': True}, 'created': '2024-05-24T18:52:50.457552', 'modified': '2024-05-24T18:52:50.457556', 'user_views': 0, 'downloads': 0, 'thumbnail_id': None, 'standard_license': True, 'license_id': 'CC BY'}\n"
     ]
    }
   ],
   "source": [
    "dataset_json = {\n",
    "    \"name\": \"Flower Dataset\",\n",
    "    \"description\": \"Dataset for Flower Data\",\n",
    "    \"status\": \"PRIVATE\",\n",
    "}\n",
    "dataset_params = {\n",
    "    \"license_id\": \"CC BY\"\n",
    "}\n",
    "\n",
    "token = \"eyJhbGciOiJSUzI1NiIsInR5cCIgOiAiSldUIiwia2lkIiA6ICI2dUVlQ0xOc1hTQXZUN1VDek1FRVk2VmI4ajJnY1RhWlFESUpnbnFGSHVJIn0.eyJleHAiOjE3MTY1NzY5NjcsImlhdCI6MTcxNjU3NjY2NywiYXV0aF90aW1lIjoxNzE2NTc2Mzc1LCJqdGkiOiI5NzU3NTM1Mi04Y2FhLTRhMmUtODZhZC0wM2JkNDcwODhhZjkiLCJpc3MiOiJodHRwOi8vbG9jYWxob3N0OjgwODAva2V5Y2xvYWsvcmVhbG1zL2Nsb3dkZXIiLCJzdWIiOiJmODRjYmM2ZC1jMTNkLTQyZWYtYWE3Yy0xZDgyYWNjNWFlZWIiLCJ0eXAiOiJCZWFyZXIiLCJhenAiOiJjbG93ZGVyMi1iYWNrZW5kIiwic2Vzc2lvbl9zdGF0ZSI6IjdhMjJjZDFkLTQ3NDctNDAyNS1iNDk2LTUyYzNhOWUwZDhiYyIsImFsbG93ZWQtb3JpZ2lucyI6WyJodHRwOi8vbG9jYWxob3N0OjgwMDAiXSwicmVhbG1fYWNjZXNzIjp7InJvbGVzIjpbImRlZmF1bHQtcm9sZXMtY2xvd2RlciIsIm9mZmxpbmVfYWNjZXNzIiwidW1hX2F1dGhvcml6YXRpb24iXX0sInNjb3BlIjoib3BlbmlkIHByb2ZpbGUgZW1haWwiLCJzaWQiOiI3YTIyY2QxZC00NzQ3LTQwMjUtYjQ5Ni01MmMzYTllMGQ4YmMiLCJlbWFpbF92ZXJpZmllZCI6dHJ1ZSwibmFtZSI6IlZpc21heWFrIE1vaGFuYXJhamFuIiwicHJlZmVycmVkX3VzZXJuYW1lIjoibW9oYW5hcjJAaWxsaW5vaXMuZWR1IiwiZ2l2ZW5fbmFtZSI6IlZpc21heWFrIiwiZmFtaWx5X25hbWUiOiJNb2hhbmFyYWphbiIsImVtYWlsIjoibW9oYW5hcjJAaWxsaW5vaXMuZWR1In0.AHqeZ79L8OUW2zTYEaDeUmuhHAeDMcqlgR8CE7ScGBRt-4gj8QFipbkiiMt0LYbMNi97dv0O_-iojrMtnlaX1OubnEwI_mMcoGckpXc5CzCoAQ_Qri2ZnpfnClDa9wPu-G_aGL-Sv4UpAglSTCbpBxsE99EiBubMb0T3NpP8p0k_lJTSvAZPJdMJ2sPpBo4BPUUIZq9JBXAZF7YPL9ZzUOoQKJvpNlA_7fHBHDjdSKRbVjP5cCNldjHJ70D2j1HM4JJUwMirNWZ8SFaJiny5a7NoZ2fa_JQkA3ZRrwGPHxGh6JThhu_F-a-pv2CDSytPCSU5DJxnslNJ4ePLVKDWpQ\"\n",
    "headers = {\n",
    "    'Authorization': f'Bearer {token}'\n",
    "}\n",
    "\n",
    "\n",
    "dataset_url = CLOWDER_URL + \"/api/v2/datasets\"\n",
    "response = requests.post(dataset_url, json = dataset_json, headers = headers, params = dataset_params)\n",
    "print(response.json())"
   ]
  }
 ],
 "metadata": {
  "kernelspec": {
   "display_name": "Python 3 (ipykernel)",
   "language": "python",
   "name": "python3"
  },
  "language_info": {
   "codemirror_mode": {
    "name": "ipython",
    "version": 3
   },
   "file_extension": ".py",
   "mimetype": "text/x-python",
   "name": "python",
   "nbconvert_exporter": "python",
   "pygments_lexer": "ipython3",
   "version": "3.10.13"
  }
 },
 "nbformat": 4,
 "nbformat_minor": 5
}
